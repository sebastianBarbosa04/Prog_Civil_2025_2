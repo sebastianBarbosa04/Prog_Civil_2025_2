{
  "nbformat": 4,
  "nbformat_minor": 0,
  "metadata": {
    "colab": {
      "provenance": [],
      "authorship_tag": "ABX9TyOZZRKnE5BS8/RtpGXRUHa5",
      "include_colab_link": true
    },
    "kernelspec": {
      "name": "python3",
      "display_name": "Python 3"
    },
    "language_info": {
      "name": "python"
    }
  },
  "cells": [
    {
      "cell_type": "markdown",
      "metadata": {
        "id": "view-in-github",
        "colab_type": "text"
      },
      "source": [
        "<a href=\"https://colab.research.google.com/github/sebastianBarbosa04/Prog_Civil_2025_2/blob/main/semana_4_y_5_civil.ipynb\" target=\"_parent\"><img src=\"https://colab.research.google.com/assets/colab-badge.svg\" alt=\"Open In Colab\"/></a>"
      ]
    },
    {
      "cell_type": "markdown",
      "source": [
        "# Situación de Interés en Ingeniería Civi:\n",
        " Un ingeniero estructural necesita calcular el peso de\n",
        "diferentes elementos de una construcción (vigas, columnas). El programa debe tener una base de datos\n",
        "con las densidades de materiales comunes (acero, concreto, madera) y, a partir del tipo de material y\n",
        "el volumen del elemento, debe calcular su peso total.\n",
        "\n",
        "Caso de Ingeniería Civil: Calculadora de Peso Estructural (Diccionarios y Funciones)\n",
        "• Paso a Paso del Código:\n",
        "1. Crear un diccionario que funcione como una base de datos de densidades. La clave será el\n",
        "nombre del material y el valor será su densidad en kg/m³.\n",
        "2. Crear una función calcular_peso que reciba el diccionario de densidades, el nombre del material\n",
        "y su volumen.\n",
        "3. Dentro de la función, buscar la densidad del material en el diccionario.\n",
        "4. Si el material existe, calcular y devolver el peso (densidad * volumen). Si no, devolver un mensaje\n",
        "de error o None.\n",
        "5. En el programa principal, pedir al usuario el tipo de material y las dimensiones del elemento para\n",
        "calcular su volumen.\n",
        "6. Llamar a la función calcular_peso y mostrar el resultado.\n"
      ],
      "metadata": {
        "id": "z4Qqni-oR5T7"
      }
    },
    {
      "cell_type": "code",
      "source": [],
      "metadata": {
        "id": "rqhbolsaSqka"
      },
      "execution_count": null,
      "outputs": []
    },
    {
      "cell_type": "markdown",
      "metadata": {
        "id": "8c048be9"
      },
      "source": [
        "# Task\n",
        "Escribe código de Python que implemente una calculadora de peso estructural. La calculadora debe permitir al usuario ingresar el tipo de material y las dimensiones de un objeto para calcular su peso, utilizando una base de datos interna de densidades de materiales comunes."
      ]
    },
    {
      "cell_type": "markdown",
      "metadata": {
        "id": "aff00f93"
      },
      "source": [
        "## Crear la base de datos de densidades\n",
        "\n",
        "### Subtask:\n",
        "Definir un diccionario en Python que contenga los nombres de materiales comunes como claves y sus densidades en kg/m³ como valores.\n"
      ]
    },
    {
      "cell_type": "markdown",
      "metadata": {
        "id": "8b2679f1"
      },
      "source": [
        "**Reasoning**:\n",
        "The subtask is to create a dictionary of material densities. I will create a dictionary with common engineering materials and their approximate densities.\n",
        "\n"
      ]
    },
    {
      "cell_type": "code",
      "metadata": {
        "colab": {
          "base_uri": "https://localhost:8080/"
        },
        "id": "36ee283d",
        "outputId": "cddb7d1c-31fb-4efb-c68f-204d0df26c27"
      },
      "source": [
        "densidades_materiales = {\n",
        "    \"acero\": 7850,\n",
        "    \"concreto\": 2400,\n",
        "    \"madera\": 700\n",
        "}\n",
        "\n",
        "print(densidades_materiales)"
      ],
      "execution_count": 1,
      "outputs": [
        {
          "output_type": "stream",
          "name": "stdout",
          "text": [
            "{'acero': 7850, 'concreto': 2400, 'madera': 700}\n"
          ]
        }
      ]
    },
    {
      "cell_type": "markdown",
      "metadata": {
        "id": "a266c9c1"
      },
      "source": [
        "## Definir la función `calcular peso`\n",
        "\n",
        "### Subtask:\n",
        "Crear una función en Python llamada `calcular_peso` que acepte tres argumentos: el diccionario de densidades, el nombre del material y el volumen del elemento.\n"
      ]
    },
    {
      "cell_type": "markdown",
      "metadata": {
        "id": "77f0f82f"
      },
      "source": [
        "**Reasoning**:\n",
        "Define the function `calcular_peso` with the specified parameters and use `pass` as a placeholder for the function body.\n",
        "\n"
      ]
    },
    {
      "cell_type": "code",
      "metadata": {
        "id": "116bd2e0"
      },
      "source": [
        "def calcular_peso(diccionario_densidades, nombre_material, volumen):\n",
        "  \"\"\"Calcula el peso de un elemento a partir de su densidad y volumen.\n",
        "\n",
        "  Args:\n",
        "    diccionario_densidades: Un diccionario con las densidades de los materiales.\n",
        "    nombre_material: El nombre del material.\n",
        "    volumen: El volumen del elemento en m³.\n",
        "\n",
        "  Returns:\n",
        "    El peso del elemento en kg si el material existe, de lo contrario None.\n",
        "  \"\"\"\n",
        "  pass"
      ],
      "execution_count": 2,
      "outputs": []
    },
    {
      "cell_type": "markdown",
      "metadata": {
        "id": "80cf5cb9"
      },
      "source": [
        "## Implementar la lógica de búsqueda y cálculo\n",
        "\n",
        "### Subtask:\n",
        "Dentro de la función `calcular_peso`, verificar si el material existe en el diccionario de densidades. Si existe, calcular el peso multiplicando la densidad por el volumen y devolver el resultado. Si el material no se encuentra en el diccionario, devolver un mensaje de error o `None`.\n"
      ]
    },
    {
      "cell_type": "markdown",
      "metadata": {
        "id": "8eeaaef4"
      },
      "source": [
        "**Reasoning**:\n",
        "Implement the logic inside the `calcular_peso` function to check for the material's existence in the dictionary and calculate the weight.\n",
        "\n"
      ]
    },
    {
      "cell_type": "code",
      "metadata": {
        "colab": {
          "base_uri": "https://localhost:8080/"
        },
        "id": "48519a97",
        "outputId": "acdd0225-3bd5-4cca-988f-b631030170f4"
      },
      "source": [
        "def calcular_peso(diccionario_densidades, nombre_material, volumen):\n",
        "  \"\"\"Calcula el peso de un elemento a partir de su densidad y volumen.\n",
        "\n",
        "  Args:\n",
        "    diccionario_densidades: Un diccionario con las densidades de los materiales.\n",
        "    nombre_material: El nombre del material.\n",
        "    volumen: El volumen del elemento en m³.\n",
        "\n",
        "  Returns:\n",
        "    El peso del elemento en kg si el material existe, de lo contrario un mensaje de error.\n",
        "  \"\"\"\n",
        "  if nombre_material in diccionario_densidades:\n",
        "    densidad = diccionario_densidades[nombre_material]\n",
        "    peso = densidad * volumen\n",
        "    return peso\n",
        "  else:\n",
        "    return \"Material no encontrado en la base de datos.\"\n",
        "\n",
        "print(calcular_peso(densidades_materiales, \"acero\", 0.5))\n",
        "print(calcular_peso(densidades_materiales, \"plastico\", 1.0))"
      ],
      "execution_count": 3,
      "outputs": [
        {
          "output_type": "stream",
          "name": "stdout",
          "text": [
            "3925.0\n",
            "Material no encontrado en la base de datos.\n"
          ]
        }
      ]
    },
    {
      "cell_type": "markdown",
      "metadata": {
        "id": "ca04c175"
      },
      "source": [
        "## Obtener la entrada del usuario\n",
        "\n",
        "### Subtask:\n",
        "Solicitar al usuario el tipo de material y las dimensiones para calcular el volumen.\n"
      ]
    },
    {
      "cell_type": "markdown",
      "metadata": {
        "id": "515a78c1"
      },
      "source": [
        "**Reasoning**:\n",
        "Request the material type and dimensions from the user using the `input()` function.\n",
        "\n"
      ]
    },
    {
      "cell_type": "code",
      "metadata": {
        "colab": {
          "base_uri": "https://localhost:8080/"
        },
        "id": "0a63ad40",
        "outputId": "2ed2276d-2238-4f56-a137-56be282abeff"
      },
      "source": [
        "tipo_material = input(\"Ingrese el tipo de material (ej. acero, concreto, madera): \")\n",
        "longitud = input(\"Ingrese la longitud del elemento en metros: \")\n",
        "ancho = input(\"Ingrese el ancho del elemento en metros: \")\n",
        "altura = input(\"Ingrese la altura del elemento en metros: \")\n",
        "\n",
        "print(f\"Tipo de material ingresado: {tipo_material}\")\n",
        "print(f\"Dimensiones ingresadas: Longitud={longitud}, Ancho={ancho}, Altura={altura}\")"
      ],
      "execution_count": 4,
      "outputs": [
        {
          "output_type": "stream",
          "name": "stdout",
          "text": [
            "Ingrese el tipo de material (ej. acero, concreto, madera): acero\n",
            "Ingrese la longitud del elemento en metros: 100\n",
            "Ingrese el ancho del elemento en metros: 20\n",
            "Ingrese la altura del elemento en metros: 40\n",
            "Tipo de material ingresado: acero\n",
            "Dimensiones ingresadas: Longitud=100, Ancho=20, Altura=40\n"
          ]
        }
      ]
    },
    {
      "cell_type": "markdown",
      "metadata": {
        "id": "dc5df64b"
      },
      "source": [
        "## Calcular el volumen\n",
        "\n",
        "### Subtask:\n",
        "Implementar la lógica para calcular el volumen basado en las dimensiones proporcionadas por el usuario.\n"
      ]
    },
    {
      "cell_type": "markdown",
      "metadata": {
        "id": "79bd4120"
      },
      "source": [
        "**Reasoning**:\n",
        "Convert the user's input for length, width, and height to floating-point numbers and then calculate the volume by multiplying these values.\n",
        "\n"
      ]
    },
    {
      "cell_type": "code",
      "metadata": {
        "colab": {
          "base_uri": "https://localhost:8080/"
        },
        "id": "06c1e570",
        "outputId": "38228edf-0c58-4af3-e61a-f116045d1647"
      },
      "source": [
        "try:\n",
        "    longitud_float = float(longitud)\n",
        "    ancho_float = float(ancho)\n",
        "    altura_float = float(altura)\n",
        "\n",
        "    volumen = longitud_float * ancho_float * altura_float\n",
        "    print(f\"Volumen calculado: {volumen} m³\")\n",
        "\n",
        "except ValueError:\n",
        "    print(\"Error: Por favor, ingrese valores numéricos válidos para las dimensiones.\")\n",
        "    volumen = None\n"
      ],
      "execution_count": 5,
      "outputs": [
        {
          "output_type": "stream",
          "name": "stdout",
          "text": [
            "Volumen calculado: 80000.0 m³\n"
          ]
        }
      ]
    },
    {
      "cell_type": "markdown",
      "metadata": {
        "id": "a06471cd"
      },
      "source": [
        "## Llamar a la función `calcular peso` y mostrar el resultado\n",
        "\n",
        "### Subtask:\n",
        "Invocar la función `calcular_peso` con los datos del usuario (diccionario de densidades, tipo de material y volumen calculado) y mostrar el peso calculado o el mensaje de error devuelto por la función.\n"
      ]
    },
    {
      "cell_type": "markdown",
      "metadata": {
        "id": "21dcb881"
      },
      "source": [
        "**Reasoning**:\n",
        "Call the `calcular_peso` function with the provided inputs, store the result, and then check if the result is the error message or a numerical value to print the appropriate output.\n",
        "\n"
      ]
    },
    {
      "cell_type": "code",
      "metadata": {
        "colab": {
          "base_uri": "https://localhost:8080/"
        },
        "id": "93dddb5b",
        "outputId": "520fdd07-659d-4bcb-8a32-a0167e898b86"
      },
      "source": [
        "peso_calculado = calcular_peso(densidades_materiales, tipo_material, volumen)\n",
        "\n",
        "if isinstance(peso_calculado, (int, float)):\n",
        "  print(f\"El peso del elemento es: {peso_calculado} kg\")\n",
        "else:\n",
        "  print(peso_calculado)"
      ],
      "execution_count": 6,
      "outputs": [
        {
          "output_type": "stream",
          "name": "stdout",
          "text": [
            "El peso del elemento es: 628000000.0 kg\n"
          ]
        }
      ]
    },
    {
      "cell_type": "markdown",
      "metadata": {
        "id": "06b519a1"
      },
      "source": [
        "## Summary:\n",
        "\n",
        "### Data Analysis Key Findings\n",
        "\n",
        "*   A dictionary named `densidades_materiales` was successfully created to store common material densities.\n",
        "*   A Python function `calcular_peso` was defined and implemented to calculate the weight of an element based on its material density and volume.\n",
        "*   The `calcular_peso` function includes logic to check if the material exists in the density database and returns either the calculated weight or an error message.\n",
        "*   The user input for material type and dimensions (length, width, height) was successfully captured.\n",
        "*   The volume of the element was calculated from the user-provided dimensions, including error handling for non-numeric input.\n",
        "*   The `calcular_peso` function was successfully called with the user's inputs, and the calculated weight or error message was displayed.\n",
        "\n",
        "### Insights or Next Steps\n",
        "\n",
        "*   Consider adding more materials to the `densidades_materiales` dictionary to expand the calculator's capabilities.\n",
        "*   Implement unit conversion options for dimensions and output weight to provide more flexibility for the user.\n"
      ]
    }
  ]
}