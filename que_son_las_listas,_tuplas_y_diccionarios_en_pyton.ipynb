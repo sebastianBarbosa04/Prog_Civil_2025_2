{
  "cells": [
    {
      "cell_type": "markdown",
      "metadata": {
        "id": "view-in-github",
        "colab_type": "text"
      },
      "source": [
        "<a href=\"https://colab.research.google.com/github/sebastianBarbosa04/Prog_Civil_2025_2/blob/main/que_son_las_listas%2C_tuplas_y_diccionarios_en_pyton.ipynb\" target=\"_parent\"><img src=\"https://colab.research.google.com/assets/colab-badge.svg\" alt=\"Open In Colab\"/></a>"
      ]
    },
    {
      "cell_type": "markdown",
      "source": [
        "Las **listas**, **tuplas** y **diccionarios** son estructuras de datos fundamentales en Python que te permiten almacenar y organizar colecciones de elementos. Cada una tiene características y usos específicos.\n",
        "\n",
        "## Listas 📜\n",
        "\n",
        "Las listas son **colecciones ordenadas y mutables** de elementos. Esto significa que:\n",
        "\n",
        "  * **Ordenadas:** Los elementos mantienen el orden en el que fueron insertados.\n",
        "  * **Mutables:** Puedes modificar, agregar o eliminar elementos después de que la lista ha sido creada.\n",
        "\n",
        "Se definen utilizando corchetes `[]` y los elementos pueden ser de diferentes tipos de datos (enteros, cadenas, otras listas, etc.).\n",
        "\n",
        "**Ejemplo:**"
      ],
      "metadata": {
        "id": "XsBi2zGaOj-3"
      }
    },
    {
      "cell_type": "code",
      "source": [
        "mi_lista = [1, \"hola\", 3.14, [1, 2]]"
      ],
      "outputs": [],
      "execution_count": null,
      "metadata": {
        "id": "9JATMv_KOj-8"
      }
    },
    {
      "cell_type": "markdown",
      "source": [
        "## Tuplas 🔗\n",
        "\n",
        "Las tuplas son **colecciones ordenadas e inmutables** de elementos. A diferencia de las listas:\n",
        "\n",
        "  * **Inmutables:** Una vez que una tupla es creada, no puedes modificar, agregar o eliminar sus elementos.\n",
        "\n",
        "Se definen utilizando paréntesis `()` (aunque los paréntesis son opcionales en muchos casos, es una buena práctica usarlos para mayor claridad).\n",
        "\n",
        "**Ejemplo:**"
      ],
      "metadata": {
        "id": "xg_sOkrCOj--"
      }
    },
    {
      "cell_type": "code",
      "source": [
        "mi_tupla = (1, \"adios\", 2.71)"
      ],
      "outputs": [],
      "execution_count": null,
      "metadata": {
        "id": "U8-X7gMiOj--"
      }
    },
    {
      "cell_type": "markdown",
      "source": [
        "## Diccionarios 🗺️\n",
        "\n",
        "Los diccionarios son **colecciones desordenadas y mutables** de pares **clave-valor**. Esto significa que:\n",
        "\n",
        "  * **Desordenadas:** Los elementos no tienen un orden garantizado (en versiones de Python anteriores a la 3.7, aunque las versiones recientes mantienen el orden de inserción).\n",
        "  * **Mutable:** Puedes modificar, agregar o eliminar pares clave-valor.\n",
        "  * **Clave-Valor:** Cada elemento está asociado a una **clave única** (que debe ser inmutable, como cadenas o números), y a través de esa clave, accedes a su **valor** asociado.\n",
        "\n",
        "Se definen utilizando llaves `{}`.\n",
        "\n",
        "**Ejemplo:**"
      ],
      "metadata": {
        "id": "sB4YaypXOj-_"
      }
    },
    {
      "cell_type": "code",
      "source": [
        "mi_diccionario = {\"nombre\": \"Alice\", \"edad\": 30, \"ciudad\": \"Nueva York\"}"
      ],
      "outputs": [],
      "execution_count": null,
      "metadata": {
        "id": "UL-SuBpDOj-_"
      }
    },
    {
      "cell_type": "markdown",
      "source": [
        "En resumen:\n",
        "\n",
        "| Característica  | Lista        | Tupla         | Diccionario         |\n",
        "| :-------------- | :----------- | :------------ | :------------------ |\n",
        "| **Mutabilidad** | Mutable      | Inmutable     | Mutable             |\n",
        "| **Orden** | Ordenada     | Ordenada      | Desordenada (o por inserción) |\n",
        "| **Acceso** | Por índice   | Por índice    | Por clave           |\n",
        "| **Sintaxis** | `[]`         | `()`          | `{}` (clave: valor) |"
      ],
      "metadata": {
        "id": "xY4LUcnJOj_A"
      }
    }
  ],
  "metadata": {
    "colab": {
      "provenance": [],
      "include_colab_link": true
    },
    "kernelspec": {
      "display_name": "Python 3",
      "name": "python3"
    }
  },
  "nbformat": 4,
  "nbformat_minor": 0
}